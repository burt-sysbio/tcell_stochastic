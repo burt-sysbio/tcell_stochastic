{
 "cells": [
  {
   "cell_type": "markdown",
   "metadata": {},
   "source": [
    "# stochastic analysis\n"
   ]
  },
  {
   "cell_type": "code",
   "execution_count": 1,
   "metadata": {},
   "outputs": [
    {
     "name": "stderr",
     "output_type": "stream",
     "text": [
      "┌ Info: Precompiling Distributions [31c24e10-a181-5473-b8eb-7969acd0382f]\n",
      "└ @ Base loading.jl:1192\n",
      "ERROR: LoadError: No deps.jl file could be found. Please try running Pkg.build(\"Arpack\").\n",
      "Currently, the build command might fail when Julia has been built from source\n",
      "and the recommendation is to use the official binaries from julialang.org.\n",
      "For more info see https://github.com/JuliaLinearAlgebra/Arpack.jl/issues/5.\n",
      "\n",
      "Stacktrace:\n",
      " [1] top-level scope at /home/burt/.julia/packages/Arpack/zCmTA/src/Arpack.jl:19\n",
      " [2] include at ./boot.jl:317 [inlined]\n",
      " [3] include_relative(::Module, ::String) at ./loading.jl:1044\n",
      " [4] include(::Module, ::String) at ./sysimg.jl:29\n",
      " [5] top-level scope at none:2\n",
      " [6] eval at ./boot.jl:319 [inlined]\n",
      " [7] eval(::Expr) at ./client.jl:393\n",
      " [8] top-level scope at ./none:3\n",
      "in expression starting at /home/burt/.julia/packages/Arpack/zCmTA/src/Arpack.jl:16\n",
      "ERROR: LoadError: LoadError: Failed to precompile Arpack [7d9fca2a-8960-54d3-9f78-7d1dccf2cb97] to /home/burt/.julia/compiled/v1.0/Arpack/X5VZL.ji.\n",
      "Stacktrace:\n",
      " [1] error(::String) at ./error.jl:33\n",
      " [2] compilecache(::Base.PkgId, ::String) at ./loading.jl:1203\n",
      " [3] _require(::Base.PkgId) at ./loading.jl:960\n",
      " [4] require(::Base.PkgId) at ./loading.jl:858\n",
      " [5] require(::Module, ::Symbol) at ./loading.jl:853\n",
      " [6] include at ./boot.jl:317 [inlined]\n",
      " [7] include_relative(::Module, ::String) at ./loading.jl:1044\n",
      " [8] include at ./sysimg.jl:29 [inlined]\n",
      " [9] include(::String) at /home/burt/.julia/packages/PDMats/HCniD/src/PDMats.jl:1\n",
      " [10] top-level scope at /home/burt/.julia/packages/PDMats/HCniD/src/PDMats.jl:52\n",
      " [11] include at ./boot.jl:317 [inlined]\n",
      " [12] include_relative(::Module, ::String) at ./loading.jl:1044\n",
      " [13] include(::Module, ::String) at ./sysimg.jl:29\n",
      " [14] top-level scope at none:2\n",
      " [15] eval at ./boot.jl:319 [inlined]\n",
      " [16] eval(::Expr) at ./client.jl:393\n",
      " [17] top-level scope at ./none:3\n",
      "in expression starting at /home/burt/.julia/packages/PDMats/HCniD/src/pdsparsemat.jl:1\n",
      "in expression starting at /home/burt/.julia/packages/PDMats/HCniD/src/PDMats.jl:51\n",
      "ERROR: LoadError: Failed to precompile PDMats [90014a1f-27ba-587c-ab20-58faa44d9150] to /home/burt/.julia/compiled/v1.0/PDMats/wuzEE.ji.\n",
      "Stacktrace:\n",
      " [1] error(::String) at ./error.jl:33\n",
      " [2] compilecache(::Base.PkgId, ::String) at ./loading.jl:1203\n",
      " [3] _require(::Base.PkgId) at ./loading.jl:960\n",
      " [4] require(::Base.PkgId) at ./loading.jl:858\n",
      " [5] require(::Module, ::Symbol) at ./loading.jl:853\n",
      " [6] include at ./boot.jl:317 [inlined]\n",
      " [7] include_relative(::Module, ::String) at ./loading.jl:1044\n",
      " [8] include(::Module, ::String) at ./sysimg.jl:29\n",
      " [9] top-level scope at none:2\n",
      " [10] eval at ./boot.jl:319 [inlined]\n",
      " [11] eval(::Expr) at ./client.jl:393\n",
      " [12] top-level scope at ./none:3\n",
      "in expression starting at /home/burt/.julia/packages/Distributions/RAeyY/src/Distributions.jl:3\n"
     ]
    },
    {
     "ename": "LoadError",
     "evalue": "LoadError: Failed to precompile Distributions [31c24e10-a181-5473-b8eb-7969acd0382f] to /home/burt/.julia/compiled/v1.0/Distributions/xILW0.ji.\nin expression starting at /home/burt/Documents/projects/2020/tcell_stochastic/code/stochastic_model.jl:3",
     "output_type": "error",
     "traceback": [
      "LoadError: Failed to precompile Distributions [31c24e10-a181-5473-b8eb-7969acd0382f] to /home/burt/.julia/compiled/v1.0/Distributions/xILW0.ji.\nin expression starting at /home/burt/Documents/projects/2020/tcell_stochastic/code/stochastic_model.jl:3",
      "",
      "Stacktrace:",
      " [1] error(::String) at ./error.jl:33",
      " [2] compilecache(::Base.PkgId, ::String) at ./loading.jl:1203",
      " [3] _require(::Base.PkgId) at ./loading.jl:960",
      " [4] require(::Base.PkgId) at ./loading.jl:858",
      " [5] require(::Module, ::Symbol) at ./loading.jl:853",
      " [6] include at ./boot.jl:317 [inlined]",
      " [7] include_relative(::Module, ::String) at ./loading.jl:1044",
      " [8] include(::Module, ::String) at ./sysimg.jl:29",
      " [9] include(::String) at ./client.jl:392",
      " [10] top-level scope at none:0",
      " [11] include at ./boot.jl:317 [inlined]",
      " [12] include_relative(::Module, ::String) at ./loading.jl:1044",
      " [13] include(::Module, ::String) at ./sysimg.jl:29",
      " [14] include(::String) at ./client.jl:392",
      " [15] top-level scope at In[1]:1"
     ]
    }
   ],
   "source": [
    "# load modules\n",
    "include(\"../code/run_simulation.jl\")"
   ]
  },
  {
   "cell_type": "code",
   "execution_count": 14,
   "metadata": {},
   "outputs": [],
   "source": [
    "using .testmodule"
   ]
  },
  {
   "cell_type": "code",
   "execution_count": 13,
   "metadata": {},
   "outputs": [
    {
     "data": {
      "text/plain": [
       "3"
      ]
     },
     "execution_count": 13,
     "metadata": {},
     "output_type": "execute_result"
    }
   ],
   "source": []
  }
 ],
 "metadata": {
  "kernel_info": {
   "name": "julia-1.0"
  },
  "kernelspec": {
   "display_name": "Julia 1.0.3",
   "language": "julia",
   "name": "julia-1.0"
  },
  "language_info": {
   "file_extension": ".jl",
   "mimetype": "application/julia",
   "name": "julia",
   "version": "1.0.3"
  },
  "nteract": {
   "version": "0.15.0"
  }
 },
 "nbformat": 4,
 "nbformat_minor": 4
}
