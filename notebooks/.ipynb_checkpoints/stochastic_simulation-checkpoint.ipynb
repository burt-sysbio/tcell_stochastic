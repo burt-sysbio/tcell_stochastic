{
 "cells": [
  {
   "cell_type": "markdown",
   "metadata": {},
   "source": [
    "# stochastic analysis\n"
   ]
  },
  {
   "cell_type": "code",
   "execution_count": 6,
   "metadata": {},
   "outputs": [
    {
     "name": "stderr",
     "output_type": "stream",
     "text": [
      "WARNING: replacing module testmodule.\n"
     ]
    },
    {
     "data": {
      "text/plain": [
       "Main.testmodule"
      ]
     },
     "execution_count": 6,
     "metadata": {},
     "output_type": "execute_result"
    }
   ],
   "source": [
    "# load modules\n",
    "include(\"../code/testmodule.jl\")\n"
   ]
  },
  {
   "cell_type": "code",
   "execution_count": 7,
   "metadata": {
    "collapsed": true,
    "jupyter": {
     "outputs_hidden": true
    }
   },
   "outputs": [
    {
     "ename": "ArgumentError",
     "evalue": "ArgumentError: Package testmodule not found in current path:\n- Run `import Pkg; Pkg.add(\"testmodule\")` to install the testmodule package.\n",
     "output_type": "error",
     "traceback": [
      "ArgumentError: Package testmodule not found in current path:\n- Run `import Pkg; Pkg.add(\"testmodule\")` to install the testmodule package.\n",
      "",
      "Stacktrace:",
      " [1] require(::Module, ::Symbol) at ./loading.jl:823",
      " [2] top-level scope at In[7]:1"
     ]
    }
   ],
   "source": [
    "using testmodule"
   ]
  }
 ],
 "metadata": {
  "kernelspec": {
   "display_name": "Julia 1.0.3",
   "language": "julia",
   "name": "julia-1.0"
  },
  "language_info": {
   "file_extension": ".jl",
   "mimetype": "application/julia",
   "name": "julia",
   "version": "1.0.3"
  }
 },
 "nbformat": 4,
 "nbformat_minor": 4
}
